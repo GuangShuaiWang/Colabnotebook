{
  "nbformat": 4,
  "nbformat_minor": 0,
  "metadata": {
    "colab": {
      "name": "3-way-make-keras-model.ipynb",
      "provenance": [],
      "collapsed_sections": [],
      "authorship_tag": "ABX9TyM1TNa6ssFgObw1w3rLfrr8",
      "include_colab_link": true
    },
    "kernelspec": {
      "name": "python3",
      "display_name": "Python 3"
    },
    "language_info": {
      "name": "python"
    }
  },
  "cells": [
    {
      "cell_type": "markdown",
      "metadata": {
        "id": "view-in-github",
        "colab_type": "text"
      },
      "source": [
        "<a href=\"https://colab.research.google.com/github/GuangShuaiWang/Colabnotebook/blob/main/3_way_make_keras_model.ipynb\" target=\"_parent\"><img src=\"https://colab.research.google.com/assets/colab-badge.svg\" alt=\"Open In Colab\"/></a>"
      ]
    },
    {
      "cell_type": "markdown",
      "source": [
        "# 构建神经网络的多种方式，sequential，功能化，subclass等\n",
        "这里实际操作下来去构建自己的模型"
      ],
      "metadata": {
        "id": "tKxz1xJsJQRy"
      }
    },
    {
      "cell_type": "markdown",
      "source": [
        "## Sequential model"
      ],
      "metadata": {
        "id": "xxoPxlFuJZFz"
      }
    },
    {
      "cell_type": "code",
      "source": [
        "import tensorflow as tf"
      ],
      "metadata": {
        "id": "oPRzbSkNJdQM"
      },
      "execution_count": 1,
      "outputs": []
    },
    {
      "cell_type": "code",
      "source": [
        "model = tf.keras.Sequential()\n",
        "model.add(tf.keras.Input(shape=(10,)))\n",
        "model.add(tf.keras.layers.Dense(20,activation=\"relu\"))\n",
        "model.add(tf.keras.layers.Dense(10,activation=\"relu\"))\n",
        "model.add(tf.keras.layers.Dense(1,activation=\"softmax\"))"
      ],
      "metadata": {
        "id": "dETuJ8F2JYct"
      },
      "execution_count": 2,
      "outputs": []
    },
    {
      "cell_type": "code",
      "source": [
        "model.summary()"
      ],
      "metadata": {
        "colab": {
          "base_uri": "https://localhost:8080/"
        },
        "id": "jiRa2vddJP8K",
        "outputId": "1475b45d-216f-451e-ee36-2c16567af463"
      },
      "execution_count": 3,
      "outputs": [
        {
          "output_type": "stream",
          "name": "stdout",
          "text": [
            "Model: \"sequential\"\n",
            "_________________________________________________________________\n",
            " Layer (type)                Output Shape              Param #   \n",
            "=================================================================\n",
            " dense (Dense)               (None, 20)                220       \n",
            "                                                                 \n",
            " dense_1 (Dense)             (None, 10)                210       \n",
            "                                                                 \n",
            " dense_2 (Dense)             (None, 1)                 11        \n",
            "                                                                 \n",
            "=================================================================\n",
            "Total params: 441\n",
            "Trainable params: 441\n",
            "Non-trainable params: 0\n",
            "_________________________________________________________________\n"
          ]
        }
      ]
    }
  ]
}