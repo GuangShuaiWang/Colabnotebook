{
  "cells": [
    {
      "cell_type": "markdown",
      "metadata": {
        "id": "view-in-github",
        "colab_type": "text"
      },
      "source": [
        "<a href=\"https://colab.research.google.com/github/GuangShuaiWang/Colabnotebook/blob/main/autocorder.ipynb\" target=\"_parent\"><img src=\"https://colab.research.google.com/assets/colab-badge.svg\" alt=\"Open In Colab\"/></a>"
      ]
    },
    {
      "cell_type": "markdown",
      "metadata": {
        "id": "rLbVTl7hqdZJ"
      },
      "source": [
        "# Autoencoder"
      ]
    },
    {
      "cell_type": "markdown",
      "metadata": {
        "id": "AVAMyZLqqjES"
      },
      "source": [
        "这里复现一下自动编解码器的代码，为了可能会使用到的情况作准备，并且加深一下理解。\n",
        "\n",
        "参考的内容为tensorflow的Autoencoder入门："
      ]
    },
    {
      "cell_type": "markdown",
      "metadata": {
        "id": "AVQg9OIxsW95"
      },
      "source": [
        ""
      ]
    },
    {
      "cell_type": "markdown",
      "metadata": {
        "id": "02NbUe1etZDI"
      },
      "source": [
        "第一步是导入要使用的模块，还是常用的pandas，numpy，tensorflow和sklearn"
      ]
    },
    {
      "cell_type": "code",
      "execution_count": null,
      "metadata": {
        "id": "vJiZND2IsWm-"
      },
      "outputs": [],
      "source": [
        "import matplotlib.pyplot as plt\n",
        "import numpy as np\n",
        "import pandas as pd\n",
        "import tensorflow as tf\n",
        "\n",
        "from sklearn.metrics import accuracy_score, precision_score, recall_score\n",
        "from sklearn.model_selection import train_test_split\n",
        "from tensorflow.keras import layers, losses\n",
        "from tensorflow.keras.datasets import fashion_mnist\n",
        "from tensorflow.keras.models import Model"
      ]
    },
    {
      "cell_type": "markdown",
      "metadata": {
        "id": "2I-AzokbtmE9"
      },
      "source": [
        "第二步是选择要使用的数据集，这里是MNIST手写数据集"
      ]
    },
    {
      "cell_type": "code",
      "execution_count": null,
      "metadata": {
        "colab": {
          "base_uri": "https://localhost:8080/"
        },
        "id": "ies2sFGvqaIm",
        "outputId": "a8577370-6d55-48cc-ba3e-301b847cadd0"
      },
      "outputs": [
        {
          "name": "stdout",
          "output_type": "stream",
          "text": [
            "Downloading data from https://storage.googleapis.com/tensorflow/tf-keras-datasets/train-labels-idx1-ubyte.gz\n",
            "32768/29515 [=================================] - 0s 0us/step\n",
            "40960/29515 [=========================================] - 0s 0us/step\n",
            "Downloading data from https://storage.googleapis.com/tensorflow/tf-keras-datasets/train-images-idx3-ubyte.gz\n",
            "26427392/26421880 [==============================] - 0s 0us/step\n",
            "26435584/26421880 [==============================] - 0s 0us/step\n",
            "Downloading data from https://storage.googleapis.com/tensorflow/tf-keras-datasets/t10k-labels-idx1-ubyte.gz\n",
            "16384/5148 [===============================================================================================] - 0s 0us/step\n",
            "Downloading data from https://storage.googleapis.com/tensorflow/tf-keras-datasets/t10k-images-idx3-ubyte.gz\n",
            "4423680/4422102 [==============================] - 0s 0us/step\n",
            "4431872/4422102 [==============================] - 0s 0us/step\n",
            "(60000, 28, 28)\n",
            "(10000, 28, 28)\n"
          ]
        }
      ],
      "source": [
        "(x_train, _), (x_test, _) = fashion_mnist.load_data()\n",
        "\n",
        "x_train = x_train.astype('float32') / 255.\n",
        "x_test = x_test.astype('float32') / 255.\n",
        "\n",
        "print (x_train.shape)\n",
        "print (x_test.shape)"
      ]
    },
    {
      "cell_type": "markdown",
      "metadata": {
        "id": "hwwOHluwtyE7"
      },
      "source": [
        "第三步这里就有点内容了，是定义了Autoencorder类，涉及类与对象的关系，是super命令好像是继承父类的全部内容（是继承父类的构造函数然后添加一些新的内容）。"
      ]
    },
    {
      "cell_type": "markdown",
      "metadata": {
        "id": "Nru0F7jzd_FE"
      },
      "source": [
        "## 关键\n",
        "\n",
        "这里给出了基于tensorflow来构建自编码器，这里只需要两点，encoder中，定义输出的维度和激活函数即可。而在解码器中，需要给出解码器其中的层数和输出的维度（与输入保持一致）。但是这里其实并不明显，可以查看例子二。比如为什么decoder要为784呢？因为输入的维度为784。"
      ]
    },
    {
      "cell_type": "code",
      "execution_count": null,
      "metadata": {
        "id": "5PgZ8R2-tXz7"
      },
      "outputs": [],
      "source": [
        "latent_dim = 64 \n",
        "\n",
        "class Autoencoder(Model):\n",
        "  def __init__(self, latent_dim):\n",
        "    super(Autoencoder, self).__init__()\n",
        "    self.latent_dim = latent_dim   \n",
        "    self.encoder = tf.keras.Sequential([\n",
        "      layers.Flatten(),\n",
        "      layers.Dense(latent_dim, activation='relu'),\n",
        "    ])\n",
        "    self.decoder = tf.keras.Sequential([\n",
        "      layers.Dense(784, activation='sigmoid'),\n",
        "      layers.Reshape((28, 28))\n",
        "    ])\n",
        "\n",
        "  def call(self, x):\n",
        "    encoded = self.encoder(x)\n",
        "    decoded = self.decoder(encoded)\n",
        "    return decoded\n",
        "\n",
        "autoencoder = Autoencoder(latent_dim)"
      ]
    },
    {
      "cell_type": "markdown",
      "metadata": {
        "id": "Rz65l6q7b_tH"
      },
      "source": [
        "指定优化器和损失函数"
      ]
    },
    {
      "cell_type": "code",
      "execution_count": null,
      "metadata": {
        "id": "SKWAJyJ8b6M8"
      },
      "outputs": [],
      "source": [
        "autoencoder.compile(optimizer='adam', loss=losses.MeanSquaredError())"
      ]
    },
    {
      "cell_type": "markdown",
      "metadata": {
        "id": "RPS4Q6ubcCi9"
      },
      "source": [
        "fit进行训练"
      ]
    },
    {
      "cell_type": "code",
      "execution_count": null,
      "metadata": {
        "colab": {
          "base_uri": "https://localhost:8080/"
        },
        "id": "VGyqUW4Tb8wV",
        "outputId": "7a0ed617-cbc3-4b7d-a45b-67b01a8b85f6"
      },
      "outputs": [
        {
          "name": "stdout",
          "output_type": "stream",
          "text": [
            "Epoch 1/10\n",
            "1875/1875 [==============================] - 7s 3ms/step - loss: 0.0244 - val_loss: 0.0136\n",
            "Epoch 2/10\n",
            "1875/1875 [==============================] - 8s 4ms/step - loss: 0.0118 - val_loss: 0.0108\n",
            "Epoch 3/10\n",
            "1875/1875 [==============================] - 7s 3ms/step - loss: 0.0102 - val_loss: 0.0099\n",
            "Epoch 4/10\n",
            "1875/1875 [==============================] - 6s 3ms/step - loss: 0.0096 - val_loss: 0.0097\n",
            "Epoch 5/10\n",
            "1875/1875 [==============================] - 6s 3ms/step - loss: 0.0093 - val_loss: 0.0093\n",
            "Epoch 6/10\n",
            "1875/1875 [==============================] - 6s 3ms/step - loss: 0.0092 - val_loss: 0.0092\n",
            "Epoch 7/10\n",
            "1875/1875 [==============================] - 6s 3ms/step - loss: 0.0091 - val_loss: 0.0092\n",
            "Epoch 8/10\n",
            "1875/1875 [==============================] - 6s 3ms/step - loss: 0.0090 - val_loss: 0.0091\n",
            "Epoch 9/10\n",
            "1875/1875 [==============================] - 6s 3ms/step - loss: 0.0089 - val_loss: 0.0090\n",
            "Epoch 10/10\n",
            "1875/1875 [==============================] - 6s 3ms/step - loss: 0.0089 - val_loss: 0.0090\n"
          ]
        },
        {
          "data": {
            "text/plain": [
              "<keras.callbacks.History at 0x7fc29658ac50>"
            ]
          },
          "execution_count": 5,
          "metadata": {},
          "output_type": "execute_result"
        }
      ],
      "source": [
        "autoencoder.fit(x_train, x_train,\n",
        "                epochs=10,\n",
        "                shuffle=True,\n",
        "                validation_data=(x_test, x_test))"
      ]
    },
    {
      "cell_type": "code",
      "execution_count": null,
      "metadata": {
        "id": "bIJP9hJGcQE8"
      },
      "outputs": [],
      "source": [
        "encoded_imgs = autoencoder.encoder(x_test).numpy()\n",
        "decoded_imgs = autoencoder.decoder(encoded_imgs).numpy()"
      ]
    },
    {
      "cell_type": "code",
      "execution_count": null,
      "metadata": {
        "colab": {
          "base_uri": "https://localhost:8080/"
        },
        "id": "OZinigJRwKPI",
        "outputId": "6053a375-67f2-46ab-c0f3-cec7a55c7669"
      },
      "outputs": [
        {
          "data": {
            "text/plain": [
              "array([[1.8814871 , 1.069799  , 2.639005  , 0.        , 1.9296094 ,\n",
              "        2.702155  , 3.1476405 , 0.45264217],\n",
              "       [3.0306492 , 4.0308743 , 2.47673   , 1.0862095 , 4.455199  ,\n",
              "        2.0606036 , 2.607572  , 0.9167434 ],\n",
              "       [2.1434166 , 0.        , 1.9634918 , 1.0101588 , 4.3678474 ,\n",
              "        0.34064102, 4.325964  , 1.031603  ],\n",
              "       [1.5282332 , 2.2104917 , 1.2583147 , 3.3285995 , 0.        ,\n",
              "        2.5038157 , 1.4432359 , 4.2459793 ],\n",
              "       [2.9003186 , 4.548811  , 6.340233  , 2.1919823 , 5.157145  ,\n",
              "        1.4451711 , 0.89640415, 1.5729935 ],\n",
              "       [0.        , 2.2484798 , 4.90234   , 1.0857122 , 4.4600883 ,\n",
              "        1.7247177 , 1.1517127 , 3.1531782 ],\n",
              "       [2.4079127 , 0.31255406, 1.0938377 , 7.6516094 , 0.        ,\n",
              "        2.633667  , 1.5742698 , 2.254491  ],\n",
              "       [3.3379505 , 1.1489365 , 1.6166717 , 2.0617259 , 2.4345837 ,\n",
              "        0.8810798 , 0.        , 1.8292128 ]], dtype=float32)"
            ]
          },
          "execution_count": 14,
          "metadata": {},
          "output_type": "execute_result"
        }
      ],
      "source": [
        "encoded_imgs[10].reshape(8,8)"
      ]
    },
    {
      "cell_type": "code",
      "execution_count": null,
      "metadata": {
        "id": "rNkPr5TJwqSw"
      },
      "outputs": [],
      "source": [
        ""
      ]
    },
    {
      "cell_type": "markdown",
      "metadata": {
        "id": "PQl9WjR2dxrA"
      },
      "source": [
        "python中的作图，我觉得这一点我需要多学习，还是不够了解。"
      ]
    },
    {
      "cell_type": "code",
      "execution_count": null,
      "metadata": {
        "colab": {
          "base_uri": "https://localhost:8080/",
          "height": 264
        },
        "id": "WRtKxnK8cP8P",
        "outputId": "d1023e4b-67c4-4ea2-d073-9d043db6ab7a"
      },
      "outputs": [
        {
          "data": {
            "image/png": "[encoded data removed]",
            "text/plain": [
              "<Figure size 1440x288 with 20 Axes>"
            ]
          },
          "metadata": {},
          "output_type": "display_data"
        }
      ],
      "source": [
        "n = 10\n",
        "plt.figure(figsize=(20, 4))\n",
        "for i in range(n):\n",
        "  # display original\n",
        "  ax = plt.subplot(2, n, i + 1)\n",
        "  plt.imshow(x_test[i])\n",
        "  plt.title(\"original\")\n",
        "  plt.gray()\n",
        "  ax.get_xaxis().set_visible(False)\n",
        "  ax.get_yaxis().set_visible(False)\n",
        "\n",
        "  # display encoder\n",
        "  ax = plt.subplot(2, n, i + 1 + n)\n",
        "  plt.imshow(encoded_imgs[i].reshape(8,8))\n",
        "  plt.title(\"encoder\")\n",
        "  plt.gray()\n",
        "  ax.get_xaxis().set_visible(False)\n",
        "  ax.get_yaxis().set_visible(False)\n",
        "  # display reconstruction\n",
        "  #ax = plt.subplot(2, n, i + 1 + n)\n",
        "  #plt.imshow(decoded_imgs[i])\n",
        "  #plt.title(\"reconstructed\")\n",
        "  #plt.gray()\n",
        "  #ax.get_xaxis().set_visible(False)\n",
        "  #ax.get_yaxis().set_visible(False)\n",
        "plt.show()"
      ]
    },
    {
      "cell_type": "markdown",
      "metadata": {
        "id": "-fU7uYl_dX3l"
      },
      "source": [
        "这里通过验证和损失值来看的话，这个自编码器效果很好，但是查看前后的图像的话，好像没有更好的效果。"
      ]
    },
    {
      "cell_type": "markdown",
      "metadata": {
        "id": "b3QrkQ5ofqaC"
      },
      "source": [
        "# 例子2 图像降噪\n",
        "\n",
        "这里的例子应该才是非常好的，这部分的网络深刻的给出了编码器与解码器两者之间应该是互为相反的网络结构，然后如果效果好的话使用的是编码器网络架构产生的结果。\n",
        "\n"
      ]
    },
    {
      "cell_type": "code",
      "execution_count": null,
      "metadata": {
        "id": "Gvo3MPIsiAGm"
      },
      "outputs": [],
      "source": [
        "(x_train, _), (x_test, _) = fashion_mnist.load_data()"
      ]
    },
    {
      "cell_type": "code",
      "execution_count": null,
      "metadata": {
        "colab": {
          "base_uri": "https://localhost:8080/"
        },
        "id": "AbZrw3SFiD_H",
        "outputId": "f2fa6b6b-2ab8-420a-958d-159284cbf400"
      },
      "outputs": [
        {
          "name": "stdout",
          "output_type": "stream",
          "text": [
            "(60000, 28, 28, 1)\n"
          ]
        }
      ],
      "source": [
        "x_train = x_train.astype('float32') / 255.\n",
        "x_test = x_test.astype('float32') / 255.\n",
        "\n",
        "x_train = x_train[..., tf.newaxis]\n",
        "x_test = x_test[..., tf.newaxis]\n",
        "\n",
        "print(x_train.shape)"
      ]
    },
    {
      "cell_type": "markdown",
      "metadata": {
        "id": "1NXgpwqUiNDo"
      },
      "source": [
        "这一步是给图像添加噪声，这一步中使用的方法是：tf.random.noraml和tf.clip_by_value这两个。第一个挺好理解的，添加随机的符合正态分布的值。第二个是函数是将向量值限定到特定的范围中。"
      ]
    },
    {
      "cell_type": "code",
      "execution_count": null,
      "metadata": {
        "id": "MkIWm6V6iIgA"
      },
      "outputs": [],
      "source": [
        "noise_factor = 0.2\n",
        "x_train_noisy = x_train + noise_factor * tf.random.normal(shape=x_train.shape) \n",
        "x_test_noisy = x_test + noise_factor * tf.random.normal(shape=x_test.shape) \n",
        "\n",
        "x_train_noisy = tf.clip_by_value(x_train_noisy, clip_value_min=0., clip_value_max=1.)\n",
        "x_test_noisy = tf.clip_by_value(x_test_noisy, clip_value_min=0., clip_value_max=1.)"
      ]
    },
    {
      "cell_type": "code",
      "execution_count": null,
      "metadata": {
        "colab": {
          "base_uri": "https://localhost:8080/",
          "height": 158
        },
        "id": "tUVH-ODIiX4i",
        "outputId": "1c355c7c-fb19-4b1b-8004-0d638243f981"
      },
      "outputs": [
        {
          "data": {
            "image/png": "[encoded data removed]",
            "text/plain": [
              "<Figure size 1440x144 with 10 Axes>"
            ]
          },
          "metadata": {},
          "output_type": "display_data"
        }
      ],
      "source": [
        "n = 10\n",
        "plt.figure(figsize=(20, 2))\n",
        "for i in range(n):\n",
        "    ax = plt.subplot(1, n, i + 1)\n",
        "    plt.title(\"original + noise\")\n",
        "    plt.imshow(tf.squeeze(x_test_noisy[i]))\n",
        "    plt.gray()\n",
        "plt.show()"
      ]
    },
    {
      "cell_type": "markdown",
      "metadata": {
        "id": "eG2ei1aCl1hv"
      },
      "source": [
        "这里才是一个比较标准的格式非常的清晰展示出了编码与解码的结构是相反的。"
      ]
    },
    {
      "cell_type": "code",
      "execution_count": null,
      "metadata": {
        "id": "tjhxvU0AigpD"
      },
      "outputs": [],
      "source": [
        "class Denoise(Model):\n",
        "  def __init__(self):\n",
        "    super(Denoise, self).__init__()\n",
        "    self.encoder = tf.keras.Sequential([\n",
        "      layers.Input(shape=(28, 28, 1)),\n",
        "      layers.Conv2D(16, (3, 3), activation='relu', padding='same', strides=2),\n",
        "      layers.Conv2D(8, (3, 3), activation='relu', padding='same', strides=2)])\n",
        "\n",
        "    self.decoder = tf.keras.Sequential([\n",
        "      layers.Conv2DTranspose(8, kernel_size=3, strides=2, activation='relu', padding='same'),\n",
        "      layers.Conv2DTranspose(16, kernel_size=3, strides=2, activation='relu', padding='same'),\n",
        "      layers.Conv2D(1, kernel_size=(3, 3), activation='sigmoid', padding='same')])\n",
        "\n",
        "  def call(self, x):\n",
        "    encoded = self.encoder(x)\n",
        "    decoded = self.decoder(encoded)\n",
        "    return decoded\n",
        "\n",
        "autoencoder = Denoise()"
      ]
    },
    {
      "cell_type": "markdown",
      "metadata": {
        "id": "NKqeW9GWmVfy"
      },
      "source": [
        "定义与训练"
      ]
    },
    {
      "cell_type": "code",
      "execution_count": null,
      "metadata": {
        "id": "lBRGDDdLmRDR"
      },
      "outputs": [],
      "source": [
        "autoencoder.compile(optimizer='adam', loss=losses.MeanSquaredError())"
      ]
    },
    {
      "cell_type": "code",
      "execution_count": null,
      "metadata": {
        "colab": {
          "background_save": true,
          "base_uri": "https://localhost:8080/"
        },
        "id": "7RiUTphMmRww",
        "outputId": "8a3bb530-ba49-4334-8f78-2c96309a7920"
      },
      "outputs": [
        {
          "name": "stdout",
          "output_type": "stream",
          "text": [
            "Epoch 1/10\n",
            "1875/1875 [==============================] - 137s 73ms/step - loss: 0.0161 - val_loss: 0.0093\n",
            "Epoch 2/10\n",
            "1875/1875 [==============================] - 139s 74ms/step - loss: 0.0085 - val_loss: 0.0080\n",
            "Epoch 3/10\n",
            "1875/1875 [==============================] - 136s 73ms/step - loss: 0.0077 - val_loss: 0.0076\n",
            "Epoch 4/10\n",
            "1875/1875 [==============================] - 136s 72ms/step - loss: 0.0074 - val_loss: 0.0072\n",
            "Epoch 5/10\n",
            "1875/1875 [==============================] - 133s 71ms/step - loss: 0.0071 - val_loss: 0.0071\n",
            "Epoch 6/10\n",
            "1875/1875 [==============================] - 131s 70ms/step - loss: 0.0070 - val_loss: 0.0070\n",
            "Epoch 7/10\n",
            "1875/1875 [==============================] - 132s 71ms/step - loss: 0.0070 - val_loss: 0.0070\n",
            "Epoch 8/10\n",
            "1875/1875 [==============================] - 132s 71ms/step - loss: 0.0069 - val_loss: 0.0069\n",
            "Epoch 9/10\n",
            "1875/1875 [==============================] - 129s 69ms/step - loss: 0.0069 - val_loss: 0.0069\n",
            "Epoch 10/10\n",
            "1875/1875 [==============================] - 130s 70ms/step - loss: 0.0068 - val_loss: 0.0069\n"
          ]
        },
        {
          "data": {
            "text/plain": [
              "<keras.callbacks.History at 0x7fc2962737d0>"
            ]
          },
          "execution_count": null,
          "metadata": {},
          "output_type": "execute_result"
        }
      ],
      "source": [
        "autoencoder.fit(x_train_noisy, x_train,\n",
        "                epochs=10,\n",
        "                shuffle=True,\n",
        "                validation_data=(x_test_noisy, x_test))"
      ]
    },
    {
      "cell_type": "code",
      "execution_count": null,
      "metadata": {
        "colab": {
          "base_uri": "https://localhost:8080/"
        },
        "id": "WszqMWcbmbUL",
        "outputId": "10a2b76c-37ac-4a68-972e-cf3648f71359"
      },
      "outputs": [
        {
          "name": "stdout",
          "output_type": "stream",
          "text": [
            "Model: \"sequential_2\"\n",
            "_________________________________________________________________\n",
            " Layer (type)                Output Shape              Param #   \n",
            "=================================================================\n",
            " conv2d (Conv2D)             (None, 14, 14, 16)        160       \n",
            "                                                                 \n",
            " conv2d_1 (Conv2D)           (None, 7, 7, 8)           1160      \n",
            "                                                                 \n",
            "=================================================================\n",
            "Total params: 1,320\n",
            "Trainable params: 1,320\n",
            "Non-trainable params: 0\n",
            "_________________________________________________________________\n"
          ]
        }
      ],
      "source": [
        "autoencoder.encoder.summary()"
      ]
    },
    {
      "cell_type": "code",
      "execution_count": null,
      "metadata": {
        "colab": {
          "base_uri": "https://localhost:8080/"
        },
        "id": "PBb0ZJGembKz",
        "outputId": "bebf0802-97b7-416d-8210-aa31761c024c"
      },
      "outputs": [
        {
          "name": "stdout",
          "output_type": "stream",
          "text": [
            "Model: \"sequential_3\"\n",
            "_________________________________________________________________\n",
            " Layer (type)                Output Shape              Param #   \n",
            "=================================================================\n",
            " conv2d_transpose (Conv2DTra  (None, 14, 14, 8)        584       \n",
            " nspose)                                                         \n",
            "                                                                 \n",
            " conv2d_transpose_1 (Conv2DT  (None, 28, 28, 16)       1168      \n",
            " ranspose)                                                       \n",
            "                                                                 \n",
            " conv2d_2 (Conv2D)           (None, 28, 28, 1)         145       \n",
            "                                                                 \n",
            "=================================================================\n",
            "Total params: 1,897\n",
            "Trainable params: 1,897\n",
            "Non-trainable params: 0\n",
            "_________________________________________________________________\n"
          ]
        }
      ],
      "source": [
        "autoencoder.decoder.summary()"
      ]
    },
    {
      "cell_type": "code",
      "execution_count": null,
      "metadata": {
        "id": "WMR-xASBmjY_"
      },
      "outputs": [],
      "source": [
        "encoded_imgs = autoencoder.encoder(x_test).numpy()\n",
        "decoded_imgs = autoencoder.decoder(encoded_imgs).numpy()"
      ]
    },
    {
      "cell_type": "code",
      "execution_count": null,
      "metadata": {
        "colab": {
          "base_uri": "https://localhost:8080/",
          "height": 198
        },
        "id": "m2BGkjSKmn4L",
        "outputId": "314d8b0d-daf2-46e9-af39-557120e7b705"
      },
      "outputs": [
        {
          "data": {
            "image/png": "[encoded data removed]",
            "text/plain": [
              "<Figure size 1440x288 with 20 Axes>"
            ]
          },
          "metadata": {},
          "output_type": "display_data"
        }
      ],
      "source": [
        "n = 10\n",
        "plt.figure(figsize=(20, 4))\n",
        "for i in range(n):\n",
        "\n",
        "    # display original + noise\n",
        "    ax = plt.subplot(2, n, i + 1)\n",
        "    plt.title(\"original + noise\")\n",
        "    plt.imshow(tf.squeeze(x_test_noisy[i]))\n",
        "    plt.gray()\n",
        "    ax.get_xaxis().set_visible(False)\n",
        "    ax.get_yaxis().set_visible(False)\n",
        "\n",
        "    # display reconstruction\n",
        "    bx = plt.subplot(2, n, i + n + 1)\n",
        "    plt.title(\"reconstructed\")\n",
        "    plt.imshow(tf.squeeze(decoded_imgs[i]))\n",
        "    plt.gray()\n",
        "    bx.get_xaxis().set_visible(False)\n",
        "    bx.get_yaxis().set_visible(False)\n",
        "plt.show()"
      ]
    },
    {
      "cell_type": "markdown",
      "metadata": {
        "id": "mo4q206Fmqd2"
      },
      "source": [
        "但是这里我就有问题了，为什么可以做到降噪的效果呢？"
      ]
    },
    {
      "cell_type": "markdown",
      "metadata": {
        "id": "t3LRGsIJqhL9"
      },
      "source": [
        "# 例三 通过Autoencoder来检测异常信号\n",
        "\n",
        "How will you detect anomalies using an autoencoder? Recall that an autoencoder is trained to minimize reconstruction error. You will train an autoencoder on the normal rhythms only, then use it to reconstruct all the data. Our hypothesis is that the abnormal rhythms will have higher reconstruction error. You will then classify a rhythm as an anomaly if the reconstruction error surpasses a fixed threshold.\n",
        "\n",
        "总结来说就是，当重构的信号超过一定的误差值，则认为重构的信号是异常信号。其实使用正常的分类模型也可以做到。这里的示例是想说可以检测大型数据集中的没有标签的信号。"
      ]
    }
  ],
  "metadata": {
    "colab": {
      "collapsed_sections": [],
      "name": "autocorder.ipynb",
      "provenance": [],
      "authorship_tag": "ABX9TyPv4+7ptj5GsmcUCvaB0fs5",
      "include_colab_link": true
    },
    "kernelspec": {
      "display_name": "Python 3",
      "name": "python3"
    },
    "language_info": {
      "name": "python"
    }
  },
  "nbformat": 4,
  "nbformat_minor": 0
}